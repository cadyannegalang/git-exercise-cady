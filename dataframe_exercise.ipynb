{
  "nbformat": 4,
  "nbformat_minor": 0,
  "metadata": {
    "colab": {
      "provenance": [],
      "authorship_tag": "ABX9TyOcivNoaNOs2O4rEFXkxkDw",
      "include_colab_link": true
    },
    "kernelspec": {
      "name": "python3",
      "display_name": "Python 3"
    },
    "language_info": {
      "name": "python"
    }
  },
  "cells": [
    {
      "cell_type": "markdown",
      "metadata": {
        "id": "view-in-github",
        "colab_type": "text"
      },
      "source": [
        "<a href=\"https://colab.research.google.com/github/cadyannegalang/git-exercise-cady/blob/main/dataframe_exercise.ipynb\" target=\"_parent\"><img src=\"https://colab.research.google.com/assets/colab-badge.svg\" alt=\"Open In Colab\"/></a>"
      ]
    },
    {
      "cell_type": "code",
      "execution_count": 2,
      "metadata": {
        "colab": {
          "base_uri": "https://localhost:8080/"
        },
        "id": "cw3xsswThne0",
        "outputId": "b7ead20e-8e6a-462a-8e77-5a4a23d240ac"
      },
      "outputs": [
        {
          "output_type": "stream",
          "name": "stdout",
          "text": [
            "   OrderID   Product     Category  Quantity  Price Customer Region\n",
            "0     1001    Laptop  Electronics         2    800    Alice  North\n",
            "1     1002     Mouse  Accessories         5     20      Bob  South\n",
            "2     1003  Keyboard  Accessories         3     50  Charlie   East\n",
            "3     1004   Monitor  Electronics         4    200    Diana   West\n",
            "4     1005    Laptop  Electronics         1    850    Ethan  North\n",
            "Shape: (20, 7)\n",
            "Columns: Index(['OrderID', 'Product', 'Category', 'Quantity', 'Price', 'Customer',\n",
            "       'Region'],\n",
            "      dtype='object')\n"
          ]
        }
      ],
      "source": [
        "import pandas as pd\n",
        "\n",
        "# Sample sales dataset (20 rows)\n",
        "data = {\n",
        "    \"OrderID\": range(1001, 1021),\n",
        "    \"Product\": [\n",
        "        \"Laptop\", \"Mouse\", \"Keyboard\", \"Monitor\", \"Laptop\",\n",
        "        \"Headphones\", \"Mouse\", \"Chair\", \"Desk\", \"Laptop\",\n",
        "        \"Printer\", \"Keyboard\", \"Monitor\", \"Mouse\", \"Laptop\",\n",
        "        \"Headphones\", \"Desk\", \"Monitor\", \"Printer\", \"Chair\"\n",
        "    ],\n",
        "    \"Category\": [\n",
        "        \"Electronics\", \"Accessories\", \"Accessories\", \"Electronics\", \"Electronics\",\n",
        "        \"Accessories\", \"Accessories\", \"Furniture\", \"Furniture\", \"Electronics\",\n",
        "        \"Electronics\", \"Accessories\", \"Electronics\", \"Accessories\", \"Electronics\",\n",
        "        \"Accessories\", \"Furniture\", \"Electronics\", \"Electronics\", \"Furniture\"\n",
        "    ],\n",
        "    \"Quantity\": [2, 5, 3, 4, 1, 6, 10, 2, 1, 3, 2, 4, 2, 7, 5, 3, 2, 4, 1, 6],\n",
        "    \"Price\": [800, 20, 50, 200, 850, 40, 25, 150, 300, 900, 120, 55, 250, 20, 750, 35, 280, 220, 110, 180],\n",
        "    \"Customer\": [\n",
        "        \"Alice\", \"Bob\", \"Charlie\", \"Diana\", \"Ethan\",\n",
        "        \"Fiona\", \"George\", \"Hannah\", \"Ian\", \"Jane\",\n",
        "        \"Kyle\", \"Laura\", \"Mike\", \"Nina\", \"Oscar\",\n",
        "        \"Paul\", \"Queen\", \"Robert\", \"Sarah\", \"Tom\"\n",
        "    ],\n",
        "    \"Region\": [\n",
        "        \"North\", \"South\", \"East\", \"West\", \"North\",\n",
        "        \"South\", \"East\", \"West\", \"North\", \"South\",\n",
        "        \"East\", \"West\", \"North\", \"South\", \"East\",\n",
        "        \"West\", \"North\", \"South\", \"East\", \"West\"\n",
        "    ]\n",
        "}\n",
        "\n",
        "# Create DataFrame\n",
        "df = pd.DataFrame(data)\n",
        "\n",
        "print(df.head())\n",
        "print(\"Shape:\", df.shape)\n",
        "\n",
        "print(\"Columns:\", df.columns)\n"
      ]
    },
    {
      "cell_type": "code",
      "source": [
        "import pandas as pd\n",
        "\n",
        "# Step 1: Create DataFrame\n",
        "data = {\n",
        "    \"OrderID\": range(1001, 1021),\n",
        "    \"Product\": [\n",
        "        \"Laptop\", \"Mouse\", \"Keyboard\", \"Monitor\", \"Laptop\",\n",
        "        \"Headphones\", \"Mouse\", \"Chair\", \"Desk\", \"Laptop\",\n",
        "        \"Printer\", \"Keyboard\", \"Monitor\", \"Mouse\", \"Laptop\",\n",
        "        \"Headphones\", \"Desk\", \"Monitor\", \"Printer\", \"Chair\"\n",
        "    ],\n",
        "    \"Category\": [\n",
        "        \"Electronics\", \"Accessories\", \"Accessories\", \"Electronics\", \"Electronics\",\n",
        "        \"Accessories\", \"Accessories\", \"Furniture\", \"Furniture\", \"Electronics\",\n",
        "        \"Electronics\", \"Accessories\", \"Electronics\", \"Accessories\", \"Electronics\",\n",
        "        \"Accessories\", \"Furniture\", \"Electronics\", \"Electronics\", \"Furniture\"\n",
        "    ],\n",
        "    \"Quantity\": [2, 5, 3, 4, 1, 6, 10, 2, 1, 3, 2, 4, 2, 7, 5, 3, 2, 4, 1, 6],\n",
        "    \"Price\": [800, 20, 50, 200, 850, 40, 25, 150, 300, 900, 120, 55, 250, 20, 750, 35, 280, 220, 110, 180],\n",
        "    \"Customer\": [\n",
        "        \"Alice\", \"Bob\", \"Charlie\", \"Diana\", \"Ethan\",\n",
        "        \"Fiona\", \"George\", \"Hannah\", \"Ian\", \"Jane\",\n",
        "        \"Kyle\", \"Laura\", \"Mike\", \"Nina\", \"Oscar\",\n",
        "        \"Paul\", \"Queen\", \"Robert\", \"Sarah\", \"Tom\"\n",
        "    ],\n",
        "    \"Region\": [\n",
        "        \"North\", \"South\", \"East\", \"West\", \"North\",\n",
        "        \"South\", \"East\", \"West\", \"North\", \"South\",\n",
        "        \"East\", \"West\", \"North\", \"South\", \"East\",\n",
        "        \"West\", \"North\", \"South\", \"East\", \"West\"\n",
        "    ]\n",
        "}\n",
        "df = pd.DataFrame(data)\n",
        "\n",
        "\n",
        "# Step 2: Show first 5 rows\n",
        "print(\"First 5 rows:\")\n",
        "print(df.head())\n",
        "\n",
        "# Step 3: Print DataFrame shape\n",
        "print(\"Shape:\", df.shape)\n",
        "\n",
        "# Step 4: Show column names\n",
        "print(\"Column names:\", df.columns)"
      ],
      "metadata": {
        "colab": {
          "base_uri": "https://localhost:8080/"
        },
        "id": "cv-SdZCMjEW2",
        "outputId": "0d5be9a2-4471-420a-8c1d-f926845739a9"
      },
      "execution_count": 4,
      "outputs": [
        {
          "output_type": "stream",
          "name": "stdout",
          "text": [
            "First 5 rows:\n",
            "   OrderID   Product     Category  Quantity  Price Customer Region\n",
            "0     1001    Laptop  Electronics         2    800    Alice  North\n",
            "1     1002     Mouse  Accessories         5     20      Bob  South\n",
            "2     1003  Keyboard  Accessories         3     50  Charlie   East\n",
            "3     1004   Monitor  Electronics         4    200    Diana   West\n",
            "4     1005    Laptop  Electronics         1    850    Ethan  North\n",
            "Shape: (20, 7)\n",
            "Column names: Index(['OrderID', 'Product', 'Category', 'Quantity', 'Price', 'Customer',\n",
            "       'Region'],\n",
            "      dtype='object')\n"
          ]
        }
      ]
    },
    {
      "cell_type": "code",
      "source": [
        "# Step 1: Add Discount column (10% if Quantity >= 5 else 0)\n",
        "df[\"Discount\"] = df.apply(lambda row: row[\"Price\"] * row[\"Quantity\"] * 0.10 if row[\"Quantity\"] >= 5 else 0, axis=1)\n",
        "\n",
        "\n",
        "# Step 2: Add FinalTotal column (Total - discount)\n",
        "df[\"Total\"] = df[\"Quantity\"] * df[\"Price\"]\n",
        "df[\"FinalTotal\"] = df[\"Total\"] - df[\"Discount\"]\n",
        "\n",
        "\n",
        "# Step 3: Show selected columns\n",
        "print(df[[\"OrderID\", \"Product\", \"Total\", \"Discount\", \"FinalTotal\"]].head())"
      ],
      "metadata": {
        "colab": {
          "base_uri": "https://localhost:8080/"
        },
        "id": "roj2Wfykk7u8",
        "outputId": "81a0603e-5448-4f3b-f7ad-014021ac88a5"
      },
      "execution_count": 7,
      "outputs": [
        {
          "output_type": "stream",
          "name": "stdout",
          "text": [
            "   OrderID   Product  Total  Discount  FinalTotal\n",
            "0     1001    Laptop   1600       0.0      1600.0\n",
            "1     1002     Mouse    100      10.0        90.0\n",
            "2     1003  Keyboard    150       0.0       150.0\n",
            "3     1004   Monitor    800       0.0       800.0\n",
            "4     1005    Laptop    850       0.0       850.0\n"
          ]
        }
      ]
    },
    {
      "cell_type": "code",
      "source": [
        "# Step 1: Create new record\n",
        "new_row = {\n",
        "    \"OrderID\": 1021,\n",
        "    \"Product\": \"Tablet\",\n",
        "    \"Category\": \"Electronics\",\n",
        "    \"Quantity\": 2,\n",
        "    \"Price\": 450,\n",
        "    \"Customer\": \"Victor\",\n",
        "    \"Region\": \"East\"\n",
        "}\n",
        "\n",
        "# Step 2: Append to DataFrame\n",
        "df = df._append([new_row], ignore_index=True)\n",
        "\n",
        "# Step 3: Recalculate Total\n",
        "df[\"Total\"] = df[\"Quantity\"] * df[\"Price\"]\n",
        "\n",
        "# Step 4: Show last 3 rows\n",
        "print(df.tail(3))"
      ],
      "metadata": {
        "colab": {
          "base_uri": "https://localhost:8080/"
        },
        "id": "02eZ9SIRl2ra",
        "outputId": "5f072756-7fac-48d6-8868-bd87981ae440"
      },
      "execution_count": 14,
      "outputs": [
        {
          "output_type": "stream",
          "name": "stdout",
          "text": [
            "    OrderID Product     Category  Quantity  Price Customer Region  Discount  \\\n",
            "24     1021  Tablet  Electronics         2    450   Victor   East       NaN   \n",
            "25     1021  Tablet  Electronics         2    450   Victor   East       NaN   \n",
            "26     1021  Tablet  Electronics         2    450   Victor   East       NaN   \n",
            "\n",
            "    Total  FinalTotal  \n",
            "24    900         NaN  \n",
            "25    900         NaN  \n",
            "26    900         NaN  \n"
          ]
        }
      ]
    },
    {
      "cell_type": "code",
      "source": [
        "# Step 1: Update price of Mouse products\n",
        "df.loc[df[\"Product\"] == \"Mouse\", \"Price\"] = 30\n",
        "\n",
        "# Step 2: Recalculate Total for affected rows\n",
        "df[\"Total\"] = df[\"Quantity\"] * df[\"Price\"]\n",
        "\n",
        "# Step 3: Show only Mouse rows\n",
        "print(df[df[\"Product\"] == \"Mouse\"])"
      ],
      "metadata": {
        "colab": {
          "base_uri": "https://localhost:8080/"
        },
        "id": "rl1eUbBuonko",
        "outputId": "5c082723-db85-49cc-b99c-2717b13fcf50"
      },
      "execution_count": 16,
      "outputs": [
        {
          "output_type": "stream",
          "name": "stdout",
          "text": [
            "    OrderID Product     Category  Quantity  Price Customer Region  Discount  \\\n",
            "1      1002   Mouse  Accessories         5     30      Bob  South      10.0   \n",
            "6      1007   Mouse  Accessories        10     30   George   East      25.0   \n",
            "13     1014   Mouse  Accessories         7     30     Nina  South      14.0   \n",
            "\n",
            "    Total  FinalTotal  \n",
            "1     150        90.0  \n",
            "6     300       225.0  \n",
            "13    210       126.0  \n"
          ]
        }
      ]
    },
    {
      "cell_type": "code",
      "source": [
        "# Step 1: Show updated DataFrame\n",
        "print(df.head())"
      ],
      "metadata": {
        "colab": {
          "base_uri": "https://localhost:8080/"
        },
        "id": "JdBItgiNqWEm",
        "outputId": "fcbc8585-d8ab-47be-d656-be92e92baa3f"
      },
      "execution_count": 20,
      "outputs": [
        {
          "output_type": "stream",
          "name": "stdout",
          "text": [
            "   OrderID   Product     Category  Quantity  Price Customer Region  Total\n",
            "0     1001    Laptop  Electronics         2    800    Alice  North   1600\n",
            "1     1002     Mouse  Accessories         5     30      Bob  South    150\n",
            "2     1003  Keyboard  Accessories         3     50  Charlie   East    150\n",
            "3     1004   Monitor  Electronics         4    200    Diana   West    800\n",
            "4     1005    Laptop  Electronics         1    850    Ethan  North    850\n"
          ]
        }
      ]
    },
    {
      "cell_type": "code",
      "source": [
        "# Step 1: Drop row with OrderID = 1010\n",
        "df = df.drop(df[df[\"OrderID\"] == 1010].index, axis=0)\n",
        "\n",
        "# Step 2: Print new shape\n",
        "print(\"New shape:\", df.shape)"
      ],
      "metadata": {
        "colab": {
          "base_uri": "https://localhost:8080/"
        },
        "id": "PAv12uDFsolc",
        "outputId": "cf454891-ecb4-4394-8181-d126a9f597a4"
      },
      "execution_count": 25,
      "outputs": [
        {
          "output_type": "stream",
          "name": "stdout",
          "text": [
            "New shape: (25, 8)\n"
          ]
        }
      ]
    },
    {
      "cell_type": "code",
      "source": [
        "# Step 1: Electronics with Quantity >= 3\n",
        "result1 = df[(df[\"Category\"] == \"Electronics\") & (df[\"Quantity\"] >= 3)]\n",
        "print(result1)\n",
        "\n",
        "# Step 2: Products with Price > 500\n",
        "result2 = df[df[\"Price\"] > 500]\n",
        "print(result2)\n",
        "\n",
        "# Step 3: Count orders from North region\n",
        "count_north = df[df[\"Region\"] == \"North\"].shape[0]\n",
        "print(\"North orders:\", count_north)"
      ],
      "metadata": {
        "colab": {
          "base_uri": "https://localhost:8080/"
        },
        "id": "-2L7Fkt-tXl8",
        "outputId": "941ba867-ab67-42e1-8dfc-9b4e7adaee78"
      },
      "execution_count": 27,
      "outputs": [
        {
          "output_type": "stream",
          "name": "stdout",
          "text": [
            "    OrderID  Product     Category  Quantity  Price Customer Region  Total\n",
            "3      1004  Monitor  Electronics         4    200    Diana   West    800\n",
            "14     1015   Laptop  Electronics         5    750    Oscar   East   3750\n",
            "17     1018  Monitor  Electronics         4    220   Robert  South    880\n",
            "    OrderID Product     Category  Quantity  Price Customer Region  Total\n",
            "4      1005  Laptop  Electronics         1    850    Ethan  North    850\n",
            "14     1015  Laptop  Electronics         5    750    Oscar   East   3750\n",
            "North orders: 4\n"
          ]
        }
      ]
    },
    {
      "cell_type": "code",
      "source": [
        "# Step 1: Sales in West region\n",
        "west_sales = df[df[\"Region\"] == \"West\"]\n",
        "print(west_sales)\n",
        "\n",
        "# Step 2: Sales by Alice\n",
        "alice_sales = df[df[\"Customer\"] == \"Alice\"]\n",
        "print(alice_sales)\n",
        "\n",
        "# Step 3: Sales of Laptop or Printer\n",
        "subset_sales = df[df[\"Product\"].isin([\"Laptop\", \"Printer\"])]\n",
        "print(subset_sales)"
      ],
      "metadata": {
        "colab": {
          "base_uri": "https://localhost:8080/"
        },
        "id": "pqX3pofxug5b",
        "outputId": "f1aaac27-6093-4422-9b98-41a36e074840"
      },
      "execution_count": 28,
      "outputs": [
        {
          "output_type": "stream",
          "name": "stdout",
          "text": [
            "    OrderID     Product     Category  Quantity  Price Customer Region  Total\n",
            "3      1004     Monitor  Electronics         4    200    Diana   West    800\n",
            "7      1008       Chair    Furniture         2    150   Hannah   West    300\n",
            "11     1012    Keyboard  Accessories         4     55    Laura   West    220\n",
            "15     1016  Headphones  Accessories         3     35     Paul   West    105\n",
            "19     1020       Chair    Furniture         6    180      Tom   West   1080\n",
            "Empty DataFrame\n",
            "Columns: [OrderID, Product, Category, Quantity, Price, Customer, Region, Total]\n",
            "Index: []\n",
            "    OrderID  Product     Category  Quantity  Price Customer Region  Total\n",
            "4      1005   Laptop  Electronics         1    850    Ethan  North    850\n",
            "10     1011  Printer  Electronics         2    120     Kyle   East    240\n",
            "14     1015   Laptop  Electronics         5    750    Oscar   East   3750\n",
            "18     1019  Printer  Electronics         1    110    Sarah   East    110\n"
          ]
        }
      ]
    },
    {
      "cell_type": "code",
      "source": [
        "# Step 1: Increase Price of Furniture by 10%\n",
        "df.loc[df[\"Category\"] == \"Furniture\", \"Price\"] *= 1.10\n",
        "\n",
        "# Step 2: Recalculate Total\n",
        "df[\"Total\"] = df[\"Quantity\"] * df[\"Price\"]\n",
        "\n",
        "# Step 3: Show only Furniture rows\n",
        "print(df[df[\"Category\"] == \"Furniture\"])"
      ],
      "metadata": {
        "colab": {
          "base_uri": "https://localhost:8080/"
        },
        "id": "QyssItzIva6a",
        "outputId": "d2be4dda-a2b0-413c-8590-1ea15b7a27fa"
      },
      "execution_count": 29,
      "outputs": [
        {
          "output_type": "stream",
          "name": "stdout",
          "text": [
            "    OrderID Product   Category  Quantity  Price Customer Region   Total\n",
            "7      1008   Chair  Furniture         2  165.0   Hannah   West   330.0\n",
            "8      1009    Desk  Furniture         1  330.0      Ian  North   330.0\n",
            "16     1017    Desk  Furniture         2  308.0    Queen  North   616.0\n",
            "19     1020   Chair  Furniture         6  198.0      Tom   West  1188.0\n"
          ]
        },
        {
          "output_type": "stream",
          "name": "stderr",
          "text": [
            "/tmp/ipython-input-3434710126.py:2: FutureWarning: Setting an item of incompatible dtype is deprecated and will raise an error in a future version of pandas. Value '[165. 330. 308. 198.]' has dtype incompatible with int64, please explicitly cast to a compatible dtype first.\n",
            "  df.loc[df[\"Category\"] == \"Furniture\", \"Price\"] *= 1.10\n"
          ]
        }
      ]
    },
    {
      "cell_type": "code",
      "source": [
        "# Step 1: Sort by Total descending\n",
        "sorted_df = df.sort_values(by=\"Total\", ascending=False)\n",
        "print(sorted_df.head())\n",
        "\n",
        "# Step 2: Show top 5 sales\n",
        "print(sorted_df.head())\n",
        "\n",
        "# Step 3: Multi-level sort (Region then Customer)\n",
        "multi_sort = df.sort_values(by=[\"Region\", \"Customer\"])\n",
        "print(multi_sort.head())"
      ],
      "metadata": {
        "colab": {
          "base_uri": "https://localhost:8080/"
        },
        "id": "JqFrFOgrwYvZ",
        "outputId": "aad8674d-500c-4016-b6b9-ee54b3cf3970"
      },
      "execution_count": 30,
      "outputs": [
        {
          "output_type": "stream",
          "name": "stdout",
          "text": [
            "    OrderID Product     Category  Quantity  Price Customer Region   Total\n",
            "14     1015  Laptop  Electronics         5  750.0    Oscar   East  3750.0\n",
            "19     1020   Chair    Furniture         6  198.0      Tom   West  1188.0\n",
            "20     1021  Tablet  Electronics         2  450.0   Victor   East   900.0\n",
            "23     1021  Tablet  Electronics         2  450.0   Victor   East   900.0\n",
            "22     1021  Tablet  Electronics         2  450.0   Victor   East   900.0\n",
            "    OrderID Product     Category  Quantity  Price Customer Region   Total\n",
            "14     1015  Laptop  Electronics         5  750.0    Oscar   East  3750.0\n",
            "19     1020   Chair    Furniture         6  198.0      Tom   West  1188.0\n",
            "20     1021  Tablet  Electronics         2  450.0   Victor   East   900.0\n",
            "23     1021  Tablet  Electronics         2  450.0   Victor   East   900.0\n",
            "22     1021  Tablet  Electronics         2  450.0   Victor   East   900.0\n",
            "    OrderID   Product     Category  Quantity  Price Customer Region   Total\n",
            "2      1003  Keyboard  Accessories         3   50.0  Charlie   East   150.0\n",
            "6      1007     Mouse  Accessories        10   30.0   George   East   300.0\n",
            "10     1011   Printer  Electronics         2  120.0     Kyle   East   240.0\n",
            "14     1015    Laptop  Electronics         5  750.0    Oscar   East  3750.0\n",
            "18     1019   Printer  Electronics         1  110.0    Sarah   East   110.0\n"
          ]
        }
      ]
    }
  ]
}